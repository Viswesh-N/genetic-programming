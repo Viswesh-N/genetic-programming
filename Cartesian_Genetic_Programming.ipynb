{
  "nbformat": 4,
  "nbformat_minor": 0,
  "metadata": {
    "colab": {
      "name": "Cartesian_Genetic_Programming.ipynb",
      "provenance": [],
      "include_colab_link": true
    },
    "kernelspec": {
      "name": "python3",
      "display_name": "Python 3"
    },
    "language_info": {
      "name": "python"
    }
  },
  "cells": [
    {
      "cell_type": "markdown",
      "metadata": {
        "id": "view-in-github",
        "colab_type": "text"
      },
      "source": [
        "<a href=\"https://colab.research.google.com/github/anubhabdg7/genetic-programming/blob/main/Cartesian_Genetic_Programming.ipynb\" target=\"_parent\"><img src=\"https://colab.research.google.com/assets/colab-badge.svg\" alt=\"Open In Colab\"/></a>"
      ]
    },
    {
      "cell_type": "code",
      "metadata": {
        "id": "xtA6HrtiqSMU"
      },
      "source": [
        "import numpy as np\n",
        "import pandas as pd\n",
        "import matplotlib.pyplot as plt\n",
        "import cv2\n",
        "from google.colab.patches import cv2_imshow\n",
        "import math"
      ],
      "execution_count": 1,
      "outputs": []
    },
    {
      "cell_type": "code",
      "metadata": {
        "id": "VwdEu1GOyfJv"
      },
      "source": [
        "import operator as op\n",
        "import random\n",
        "import copy\n",
        "import math\n",
        "#from settings import VERBOSE, N_COLS, LEVEL_BACK\n",
        "\n",
        "\n",
        "class Function:\n",
        "    \"\"\"\n",
        "    A general function\n",
        "    \"\"\"\n",
        "\n",
        "    def __init__(self, f, arity, name=None):\n",
        "        self.f = f\n",
        "        self.arity = arity\n",
        "        self.name = f.__name__ if name is None else name\n",
        "\n",
        "    # def __call__(self, *args, **kwargs):\n",
        "    #     return self.f(*args, **kwargs)\n",
        "\n",
        "\n",
        "class Node:\n",
        "    \"\"\"\n",
        "    A node in CGP graph\n",
        "    \"\"\"\n",
        "    def __init__(self, max_arity):\n",
        "        \"\"\"\n",
        "        Initialize this node randomly\n",
        "        \"\"\"\n",
        "        self.i_func = None\n",
        "        self.i_inputs = [None] * max_arity\n",
        "        \n",
        "        self.i_output = None\n",
        "        self.output = None\n",
        "        self.active = False\n",
        "\n",
        "\n",
        "class Individual:\n",
        "    \"\"\"\n",
        "    An individual (chromosome, genotype, etc.) in evolution\n",
        "    \"\"\"\n",
        "   \n",
        "\n",
        "    def __init__(self):\n",
        "        self.function_set = None\n",
        "    \n",
        "        self.max_arity = 2\n",
        "        self.n_inputs = 2\n",
        "        self.n_outputs = 3\n",
        "        self.n_cols = 100\n",
        "        fs = [Function(op.add, 2),Function(op.mul,2),Function(op.sub,2),Function(protected_div,2)]\n",
        "        self.function_set = fs\n",
        "        self.max_arity = max(f.arity for f in fs)\n",
        "    \n",
        "        self.nodes = []\n",
        "        for pos in range(self.n_cols):\n",
        "            self.nodes.append(self._create_random_node(pos))\n",
        "        for i in range(self.n_outputs):\n",
        "            self.nodes[i].active = True\n",
        "        self.fitness = None\n",
        "        self._active_determined = False\n",
        "        \n",
        "          \n",
        "        \n",
        "\n",
        "        \n",
        "\n",
        "\n",
        "    def _create_random_node(self, pos):\n",
        "        node = Node(self.max_arity)\n",
        "        node.i_func = random.randint(0, len(self.function_set) - 1)\n",
        "        for i in range(self.function_set[node.i_func].arity):\n",
        "            node.i_inputs[i] = random.randint(0, pos+1)\n",
        "            \n",
        "        node.i_output = pos\n",
        "\n",
        "        return node\n",
        "\n",
        "    # def _determine_active_nodes(self):\n",
        "    #     \"\"\"\n",
        "    #     Determine which nodes in the CGP graph are active\n",
        "    #     \"\"\"\n",
        "    #     # check each node in reverse order\n",
        "    #     n_active = 0\n",
        "    #     for node in reversed(self.nodes):\n",
        "    #         if node.active:\n",
        "    #             n_active += 1\n",
        "    #             for i in range(self.function_set[node.i_func].arity):\n",
        "    #                 i_input = node.i_inputs[i]\n",
        "    #                 if i_input >= 0:  # a node (not an input)\n",
        "    #                     self.nodes[i_input].active = True\n",
        "        \n",
        "    #     print(\"# active genes: \", n_active)\n",
        "\n",
        "    def eval(self,x,y,a,b,c):\n",
        "\n",
        "      out=np.zeros((200))\n",
        "      output=[]\n",
        "      output2=[]\n",
        "      for i in range(100):\n",
        "        if self.nodes[i].i_inputs[0]>i+1 or self.nodes[i].i_inputs[1]>i+1 :\n",
        "          self.nodes[i].active= False\n",
        "        else :\n",
        "          self.nodes[i].active=True\n",
        "      out[0]=x\n",
        "      out[1]=y\n",
        "      for i in range(100):\n",
        "        if self.nodes[i].active :\n",
        "          out[i+2]=(self.function_set[self.nodes[i].i_func].f(out[self.nodes[i].i_inputs[0]],out[self.nodes[i].i_inputs[1]]))\n",
        "          \n",
        "      \n",
        "      output.append(random.randint(0,101))\n",
        "      output.append(random.randint(0,101))\n",
        "      output.append(random.randint(0,101)) \n",
        "       \n",
        "      output2.append(out[a])\n",
        "      output2.append(out[b])\n",
        "      output2.append(out[c])\n",
        "      return output2\n",
        "\n",
        "\n",
        "\n",
        "\n",
        "\n",
        "        # \"\"\"\n",
        "        # Given inputs, evaluate the output of this CGP individual.\n",
        "        # :return the final output value\n",
        "        # \"\"\"\n",
        "        # if not self._active_determined:\n",
        "        #     self._determine_active_nodes()\n",
        "        #     self._active_determined = True\n",
        "        # forward pass: evaluate\n",
        "        # for node in self.nodes:\n",
        "        #     if node.active:\n",
        "        #         inputs = []\n",
        "        #         for i in range(self.function_set[node.i_func].arity):\n",
        "        #             i_input = node.i_inputs[i]\n",
        "        #             w = node.weights[i]\n",
        "        #             # if i_input < 0:\n",
        "        #             #     inputs.append(args[-i_input - 1] * w)\n",
        "        #             # else:\n",
        "        #             #     inputs.append(self.nodes[i_input].output * w)\n",
        "        #             inputs.append(self.nodes[i_input])\n",
        "        #         node.output = self.function_set[node.i_func](*inputs)\n",
        "        #     print(self.nodes.output)\n",
        "\n",
        "    # def mutate(self, mut_rate=0.01):\n",
        "    #     \"\"\"\n",
        "    #     Mutate this individual. Each gene is varied with probability *mut_rate*.\n",
        "    #     :param mut_rate: mutation probability\n",
        "    #     :return a child after mutation\n",
        "    #     \"\"\"\n",
        "    #     child = copy.deepcopy(self)\n",
        "    #     for pos, node in enumerate(child.nodes):\n",
        "    #         # mutate the function gene\n",
        "    #         if random.random() < mut_rate:\n",
        "    #             node.i_func = random.choice(range(len(self.function_set)))\n",
        "    #         # mutate the input genes (connection genes)\n",
        "    #         arity = self.function_set[node.i_func].arity\n",
        "    #         for i in range(arity):\n",
        "    #             if node.i_inputs[i] is None or random.random() < mut_rate:  # if the mutated function requires more arguments, then the last ones are None \n",
        "    #                 node.i_inputs[i] = random.randint(max(pos - self.level_back, -self.n_inputs), pos - 1)\n",
        "    #             if node.weights[i] is None or random.random() < mut_rate:\n",
        "    #                 node.weights[i] = random.uniform(self.weight_range[0], self.weight_range[1])\n",
        "    #         # initially an individual is not active except hte last output node\n",
        "    #         node.active = False\n",
        "    #     for i in range(1, self.n_outputs + 1):\n",
        "    #         child.nodes[-i].active = True\n",
        "    #     child.fitness = None\n",
        "    #     child._active_determined = False\n",
        "    #     return child\n",
        "\n",
        "\n",
        "# function set\n",
        "def protected_div(a, b):\n",
        "    if abs(b) < 1e-6:\n",
        "        return a\n",
        "    return a / b\n",
        "\n",
        "\n",
        "\n",
        "\n",
        "# def evolve(pop, mut_rate, mu, lambda_):\n",
        "#     \"\"\"\n",
        "#     Evolve the population *pop* using the mu + lambda evolutionary strategy\n",
        "#     :param pop: a list of individuals, whose size is mu + lambda. The first mu ones are previous parents.\n",
        "#     :param mut_rate: mutation rate\n",
        "#     :return: a new generation of individuals of the same size\n",
        "#     \"\"\"\n",
        "#     pop = sorted(pop, key=lambda ind: ind.fitness)  # stable sorting\n",
        "#     parents = pop[-mu:]\n",
        "#     # generate lambda new children via mutation\n",
        "#     offspring = []\n",
        "#     for _ in range(lambda_):\n",
        "#         parent = random.choice(parents)\n",
        "#         offspring.append(parent.mutate(mut_rate))\n",
        "#     return parents + offspring\n",
        "\n",
        "\n",
        "# def create_population(n):\n",
        "#     \"\"\"\n",
        "#     Create a random population composed of n individuals.\n",
        "#     \"\"\"\n",
        "#     return [Individual() for _ in range(n)]\n"
      ],
      "execution_count": 2,
      "outputs": []
    },
    {
      "cell_type": "code",
      "metadata": {
        "id": "vBNTOPhbpwFO"
      },
      "source": [
        "I=Individual()\n"
      ],
      "execution_count": 13,
      "outputs": []
    },
    {
      "cell_type": "code",
      "metadata": {
        "id": "rSzZZrHtVnRe"
      },
      "source": [
        "I1=Individual()"
      ],
      "execution_count": 19,
      "outputs": []
    },
    {
      "cell_type": "code",
      "metadata": {
        "id": "mvVmur9BNI_z",
        "colab": {
          "base_uri": "https://localhost:8080/",
          "height": 284
        },
        "outputId": "0cceb8af-214b-4152-d54f-24512185d94c"
      },
      "source": [
        "output1=[]\n",
        "img=np.zeros((250,250,3))\n",
        "for i in range(250):\n",
        "  for j in range(250):\n",
        "    output1=I.eval(i,j,25,50,100)\n",
        "    for k in range(3):\n",
        "      if output1[k]>255 :\n",
        "        output1[k]=255\n",
        "      if output1[k]<0 :\n",
        "        output1[k]=-1*output1[k]\n",
        "    img[i][j][0]=output1[0]\n",
        "    img[i][j][1]=output1[1]\n",
        "    img[i][j][2]=output1[2]\n",
        "\n",
        "cv2_imshow(img)\n",
        "cv2.waitKey(0)"
      ],
      "execution_count": 14,
      "outputs": [
        {
          "output_type": "display_data",
          "data": {
            "image/png": "[encoded data removed]",
            "text/plain": [
              "<PIL.Image.Image image mode=RGB size=250x250 at 0x7F4242599FD0>"
            ]
          },
          "metadata": {}
        },
        {
          "output_type": "execute_result",
          "data": {
            "text/plain": [
              "-1"
            ]
          },
          "metadata": {},
          "execution_count": 14
        }
      ]
    },
    {
      "cell_type": "code",
      "metadata": {
        "colab": {
          "base_uri": "https://localhost:8080/",
          "height": 284
        },
        "id": "IEVt2Vi0UwGe",
        "outputId": "de18b1a5-5208-4562-83c8-076c1579a384"
      },
      "source": [
        "output1=[]\n",
        "img=np.zeros((250,250,3))\n",
        "for i in range(250):\n",
        "  for j in range(250):\n",
        "    output1=I1.eval(i,j,25,50,100)\n",
        "    for k in range(3):\n",
        "      if output1[k]>255 :\n",
        "        output1[k]=255\n",
        "      if output1[k]<0 :\n",
        "        output1[k]=-1*output1[k]\n",
        "    img[i][j][0]=output1[0]\n",
        "    img[i][j][1]=output1[1]\n",
        "    img[i][j][2]=output1[2]\n",
        "\n",
        "cv2_imshow(img)\n",
        "cv2.waitKey(0)"
      ],
      "execution_count": 20,
      "outputs": [
        {
          "output_type": "display_data",
          "data": {
            "image/png": "[encoded data removed]",
            "text/plain": [
              "<PIL.Image.Image image mode=RGB size=250x250 at 0x7F42338B0C90>"
            ]
          },
          "metadata": {}
        },
        {
          "output_type": "execute_result",
          "data": {
            "text/plain": [
              "-1"
            ]
          },
          "metadata": {},
          "execution_count": 20
        }
      ]
    },
    {
      "cell_type": "code",
      "metadata": {
        "id": "HInS1EQgrkXa",
        "colab": {
          "base_uri": "https://localhost:8080/",
          "height": 284
        },
        "outputId": "c61f7861-438d-4be9-da8a-bf1417b5ff99"
      },
      "source": [
        "gene=[]\n",
        "for i in range(50):\n",
        "  gene.append(random.randint(0,99))\n",
        "  I1.nodes[gene[i]]=I.nodes[gene[i]]\n",
        "\n",
        "output1=[]\n",
        "img=np.zeros((250,250,3))\n",
        "for i in range(250):\n",
        "  for j in range(250):\n",
        "    output1=I1.eval(i,j,90,50,69)\n",
        "    for k in range(3):\n",
        "      \n",
        "      if output1[k]>255 :\n",
        "        output1[k]=255\n",
        "      if output1[k]<0 :\n",
        "        output1[k]=-1*output1[k]\n",
        "    img[i][j][0]=output1[0]\n",
        "    img[i][j][1]=output1[1]\n",
        "    img[i][j][2]=output1[2]\n",
        "\n",
        "cv2_imshow(img)\n",
        "cv2.waitKey(0)\n",
        "\n",
        "\n"
      ],
      "execution_count": 21,
      "outputs": [
        {
          "output_type": "display_data",
          "data": {
            "image/png": "[encoded data removed]",
            "text/plain": [
              "<PIL.Image.Image image mode=RGB size=250x250 at 0x7F422F58A8D0>"
            ]
          },
          "metadata": {}
        },
        {
          "output_type": "execute_result",
          "data": {
            "text/plain": [
              "-1"
            ]
          },
          "metadata": {},
          "execution_count": 21
        }
      ]
    }
  ]
}